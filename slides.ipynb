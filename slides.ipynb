{
 "cells": [
  {
   "cell_type": "markdown",
   "metadata": {
    "slideshow": {
     "slide_type": "slide"
    }
   },
   "source": [
    "# OpenML ❤️ Material Science\n",
    "![alt text](images/qr.png)\n",
    "- Presented by : Subhaditya Mukherjee , Research Engineer at OpenML\n",
    "- All the links and information here : https://t.ly/u7k_b"
   ]
  },
  {
   "cell_type": "markdown",
   "metadata": {
    "slideshow": {
     "slide_type": "slide"
    }
   },
   "source": [
    "## OpenML Who?\n",
    "![alt text](images/who.png)"
   ]
  },
  {
   "cell_type": "markdown",
   "metadata": {
    "slideshow": {
     "slide_type": "subslide"
    }
   },
   "source": [
    "- Online platform for accessing and sharing datasets, models, and experiments\n",
    "- Open source\n",
    "- TU/e and worldwide :)"
   ]
  },
  {
   "cell_type": "markdown",
   "metadata": {
    "slideshow": {
     "slide_type": "subslide"
    }
   },
   "source": [
    "![alt text](images/support.png)"
   ]
  },
  {
   "cell_type": "markdown",
   "metadata": {
    "slideshow": {
     "slide_type": "slide"
    }
   },
   "source": [
    "## My current work at OpenML\n",
    "- PyTorch extension for OpenML\n",
    "- Everyone and their grandma is talking about ChatGPT and AI powered search engines\n",
    "- But what about a search engine that can help you find datasets and even entire pipelines for your research?"
   ]
  },
  {
   "cell_type": "markdown",
   "metadata": {
    "slideshow": {
     "slide_type": "slide"
    }
   },
   "source": [
    "## You and your research (?)\n",
    "- Hard to use AI for the broader community\n",
    "- Share implementations, datasets, and experiments\n",
    "- Metadata and maintainability\n",
    "- Educational resources"
   ]
  },
  {
   "cell_type": "markdown",
   "metadata": {
    "slideshow": {
     "slide_type": "slide"
    }
   },
   "source": [
    "## OpenML and Lifecyle of Data Driven Research\n",
    "How can OpenML help you?"
   ]
  },
  {
   "cell_type": "markdown",
   "metadata": {
    "slideshow": {
     "slide_type": "subslide"
    }
   },
   "source": [
    "### [Data In](https://openml.org/search?type=data&status=active)"
   ]
  },
  {
   "cell_type": "markdown",
   "metadata": {
    "slideshow": {
     "slide_type": "subslide"
    }
   },
   "source": [
    "### Data Out + In\n",
    "- [Croissant](https://github.com/mlcommons/croissant) \n",
    "- Other formats : ARFF, Parquet, Numpy, Pandas"
   ]
  },
  {
   "cell_type": "markdown",
   "metadata": {
    "slideshow": {
     "slide_type": "subslide"
    }
   },
   "source": [
    "### [Hey OpenML, what model should I use?](https://openml.org/search?type=task&sort=nr_of_downloads)"
   ]
  },
  {
   "cell_type": "markdown",
   "metadata": {
    "slideshow": {
     "slide_type": "subslide"
    }
   },
   "source": [
    "### [Okay, I ran some experiments, how badly (😭) did my model do?](https://openml.org/search?type=run&sort=date&order=desc&id=10595129)"
   ]
  },
  {
   "cell_type": "markdown",
   "metadata": {
    "slideshow": {
     "slide_type": "subslide"
    }
   },
   "source": [
    "### Someone else wants to do the same thing as me but different\n",
    "- OpenML records exactly which datasets and library versions are used, so that nothing gets lost.\n",
    "- For every experiment, the exact pipeline structure, architecture, and all hyperparameter settings are automatically stored*."
   ]
  },
  {
   "cell_type": "markdown",
   "metadata": {
    "slideshow": {
     "slide_type": "slide"
    }
   },
   "source": [
    "## What does the API look like?"
   ]
  },
  {
   "cell_type": "code",
   "execution_count": 1,
   "metadata": {
    "slideshow": {
     "slide_type": "subslide"
    }
   },
   "outputs": [
    {
     "name": "stderr",
     "output_type": "stream",
     "text": [
      "/Users/smukherjee/.pyenv/versions/3.10.14/envs/openml/lib/python3.10/site-packages/openml/datasets/functions.py:438: FutureWarning: Starting from Version 0.15 `download_data`, `download_qualities`, and `download_features_meta_data` will all be ``False`` instead of ``True`` by default to enable lazy loading. To disable this message until version 0.15 explicitly set `download_data`, `download_qualities`, and `download_features_meta_data` to a bool while calling `get_dataset`.\n",
      "  warnings.warn(\n"
     ]
    }
   ],
   "source": [
    "# Query and download data\n",
    "import openml\n",
    "import matplotlib.pyplot as plt\n",
    "import numpy as np\n",
    "\n",
    "# List all datasets and their properties\n",
    "openml.datasets.list_datasets(output_format=\"dataframe\")\n",
    "# Get dataset by ID\n",
    "dataset = openml.datasets.get_dataset(61)\n",
    "# Get dataset by name\n",
    "dataset = openml.datasets.get_dataset('Fashion-MNIST')\n",
    "# Get the data itself as a dataframe (or otherwise)\n",
    "X, y, _, _ = dataset.get_data(dataset_format=\"dataframe\")"
   ]
  },
  {
   "cell_type": "code",
   "execution_count": 6,
   "metadata": {
    "slideshow": {
     "slide_type": "subslide"
    }
   },
   "outputs": [
    {
     "data": {
      "image/png": "[encoded data removed]",
      "text/plain": [
       "<Figure size 1000x1000 with 10 Axes>"
      ]
     },
     "metadata": {},
     "output_type": "display_data"
    }
   ],
   "source": [
    "plt.figure(figsize=(10,10))\n",
    "for i in range(10):\n",
    "    input_data = X.iloc[i,:-1] / 255\n",
    "    plt.subplot(6,5, i+1)\n",
    "    plt.xticks([])\n",
    "    plt.yticks([])\n",
    "    plt.imshow(np.array(input_data, dtype = np.float32).reshape(28,28) , cmap= plt.cm.binary)"
   ]
  },
  {
   "cell_type": "code",
   "execution_count": 3,
   "metadata": {
    "slideshow": {
     "slide_type": "subslide"
    }
   },
   "outputs": [],
   "source": [
    "# Task\n",
    "import warnings\n",
    "# only for this notebook, change in your code!\n",
    "warnings.simplefilter(action='ignore', category=FutureWarning)\n",
    "from sklearn import ensemble\n",
    "from openml import tasks, runs\n",
    "\n",
    "# Build any model you like\n",
    "clf = ensemble.RandomForestClassifier()\n",
    "# Download any OpenML task\n",
    "task = tasks.get_task(3954)\n",
    "run = runs.run_model_on_task(clf, task)"
   ]
  },
  {
   "cell_type": "code",
   "execution_count": 4,
   "metadata": {
    "slideshow": {
     "slide_type": "subslide"
    }
   },
   "outputs": [
    {
     "name": "stdout",
     "output_type": "stream",
     "text": [
      "OpenML Run\n",
      "==========\n",
      "Uploader Name...................: None\n",
      "Metric..........................: None\n",
      "Local Result - Accuracy (+- STD): 0.8812 +- 0.0064\n",
      "Local Runtime - ms (+- STD).....: 3623.8227 +- 18.0057\n",
      "Run ID..........................: None\n",
      "Task ID.........................: 3954\n",
      "Task Type.......................: None\n",
      "Task URL........................: https://www.openml.org/t/3954\n",
      "Flow ID.........................: None\n",
      "Flow Name.......................: sklearn.ensemble._forest.RandomForestClassifier\n",
      "Flow URL........................: https://www.openml.org/f/None\n",
      "Setup ID........................: None\n",
      "Setup String....................: Python_3.10.14. Sklearn_1.5.1. NumPy_1.26.4. SciPy_1.14.1.\n",
      "Dataset ID......................: 1120\n",
      "Dataset URL.....................: https://www.openml.org/d/1120\n"
     ]
    }
   ],
   "source": [
    "print(run)\n",
    "openml.config.apikey = 'YOUR_KEY'\n",
    "run.publish()"
   ]
  },
  {
   "cell_type": "markdown",
   "metadata": {
    "slideshow": {
     "slide_type": "slide"
    }
   },
   "source": [
    "## OpenML ❤️ You?\n",
    "- What kind of data do you use? What libraries do you use?\n",
    "- This sounds interesting, I want to contribute to open data science :)\n",
    "- Reach out!!"
   ]
  },
  {
   "cell_type": "markdown",
   "metadata": {
    "slideshow": {
     "slide_type": "slide"
    }
   },
   "source": [
    "## Questions?\n",
    "![alt text](images/qs.png)\n",
    "- All the links and information here : https://t.ly/u7k_b"
   ]
  }
 ],
 "metadata": {
  "kernelspec": {
   "display_name": "openml",
   "language": "python",
   "name": "python3"
  },
  "language_info": {
   "codemirror_mode": {
    "name": "ipython",
    "version": 3
   },
   "file_extension": ".py",
   "mimetype": "text/x-python",
   "name": "python",
   "nbconvert_exporter": "python",
   "pygments_lexer": "ipython3",
   "version": "3.10.14"
  }
 },
 "nbformat": 4,
 "nbformat_minor": 2
}
